{
 "cells": [
  {
   "attachments": {},
   "cell_type": "markdown",
   "metadata": {},
   "source": [
    "# Assignment 2\n",
    "\n",
    "During the exercises, you will compute the nonparametric bootstrap distribution of the Pearson’s\n",
    "correlation coefficient between LSAT and GPA using B = 40000 bootstrap samples."
   ]
  },
  {
   "attachments": {},
   "cell_type": "markdown",
   "metadata": {},
   "source": [
    "## Exercise 8.1: The Nonparametric Bootstrap\n",
    "\n",
    "_Compute the nonparametric bootstrap distribution of the Pearson’s correlation coefficient between LSAT\n",
    "and GPA using B = 40000 bootstrap samples._"
   ]
  },
  {
   "cell_type": "code",
   "execution_count": 1,
   "metadata": {},
   "outputs": [],
   "source": [
    "import matplotlib.pyplot as plt\n",
    "import numpy as np\n",
    "import pandas as pd\n",
    "import random\n",
    "from tqdm.notebook import tqdm"
   ]
  },
  {
   "cell_type": "code",
   "execution_count": 2,
   "metadata": {},
   "outputs": [
    {
     "data": {
      "image/png": "[encoded data removed]",
      "text/plain": [
       "<Figure size 640x480 with 1 Axes>"
      ]
     },
     "metadata": {},
     "output_type": "display_data"
    }
   ],
   "source": [
    "df = pd.read_csv(\"law.csv\")\n",
    "df.plot.scatter(x=\"LSAT\", y=\"GPA\")\n",
    "plt.show()"
   ]
  },
  {
   "cell_type": "code",
   "execution_count": 3,
   "metadata": {},
   "outputs": [
    {
     "data": {
      "text/plain": [
       "array([[1.        , 0.77637449],\n",
       "       [0.77637449, 1.        ]])"
      ]
     },
     "execution_count": 3,
     "metadata": {},
     "output_type": "execute_result"
    }
   ],
   "source": [
    "np.corrcoef(df[\"LSAT\"], df[\"GPA\"])"
   ]
  },
  {
   "cell_type": "code",
   "execution_count": 4,
   "metadata": {},
   "outputs": [
    {
     "data": {
      "text/plain": [
       "array([[1.        , 0.77637449],\n",
       "       [0.77637449, 1.        ]])"
      ]
     },
     "execution_count": 4,
     "metadata": {},
     "output_type": "execute_result"
    }
   ],
   "source": [
    "np.corrcoef(df.values.T)"
   ]
  },
  {
   "cell_type": "code",
   "execution_count": 5,
   "metadata": {},
   "outputs": [
    {
     "data": {
      "text/plain": [
       "((15, 2), (2, 15))"
      ]
     },
     "execution_count": 5,
     "metadata": {},
     "output_type": "execute_result"
    }
   ],
   "source": [
    "def bootstrap(data):\n",
    "    return [random.choice(data) for _ in range(len(data))]\n",
    "\n",
    "np.array(bootstrap(df.values)).shape, np.stack(bootstrap(df.values), axis=1).shape"
   ]
  },
  {
   "cell_type": "code",
   "execution_count": 6,
   "metadata": {},
   "outputs": [
    {
     "data": {
      "text/html": [
       "<div>\n",
       "<style scoped>\n",
       "    .dataframe tbody tr th:only-of-type {\n",
       "        vertical-align: middle;\n",
       "    }\n",
       "\n",
       "    .dataframe tbody tr th {\n",
       "        vertical-align: top;\n",
       "    }\n",
       "\n",
       "    .dataframe thead th {\n",
       "        text-align: right;\n",
       "    }\n",
       "</style>\n",
       "<table border=\"1\" class=\"dataframe\">\n",
       "  <thead>\n",
       "    <tr style=\"text-align: right;\">\n",
       "      <th></th>\n",
       "      <th>LSAT</th>\n",
       "      <th>GPA</th>\n",
       "    </tr>\n",
       "  </thead>\n",
       "  <tbody>\n",
       "    <tr>\n",
       "      <th>0</th>\n",
       "      <td>545.0</td>\n",
       "      <td>2.76</td>\n",
       "    </tr>\n",
       "    <tr>\n",
       "      <th>1</th>\n",
       "      <td>635.0</td>\n",
       "      <td>3.30</td>\n",
       "    </tr>\n",
       "    <tr>\n",
       "      <th>2</th>\n",
       "      <td>575.0</td>\n",
       "      <td>2.74</td>\n",
       "    </tr>\n",
       "    <tr>\n",
       "      <th>3</th>\n",
       "      <td>545.0</td>\n",
       "      <td>2.76</td>\n",
       "    </tr>\n",
       "    <tr>\n",
       "      <th>4</th>\n",
       "      <td>605.0</td>\n",
       "      <td>3.13</td>\n",
       "    </tr>\n",
       "    <tr>\n",
       "      <th>5</th>\n",
       "      <td>572.0</td>\n",
       "      <td>2.88</td>\n",
       "    </tr>\n",
       "    <tr>\n",
       "      <th>6</th>\n",
       "      <td>666.0</td>\n",
       "      <td>3.44</td>\n",
       "    </tr>\n",
       "    <tr>\n",
       "      <th>7</th>\n",
       "      <td>605.0</td>\n",
       "      <td>3.13</td>\n",
       "    </tr>\n",
       "    <tr>\n",
       "      <th>8</th>\n",
       "      <td>545.0</td>\n",
       "      <td>2.76</td>\n",
       "    </tr>\n",
       "    <tr>\n",
       "      <th>9</th>\n",
       "      <td>666.0</td>\n",
       "      <td>3.44</td>\n",
       "    </tr>\n",
       "    <tr>\n",
       "      <th>10</th>\n",
       "      <td>661.0</td>\n",
       "      <td>3.43</td>\n",
       "    </tr>\n",
       "    <tr>\n",
       "      <th>11</th>\n",
       "      <td>651.0</td>\n",
       "      <td>3.36</td>\n",
       "    </tr>\n",
       "    <tr>\n",
       "      <th>12</th>\n",
       "      <td>558.0</td>\n",
       "      <td>2.81</td>\n",
       "    </tr>\n",
       "    <tr>\n",
       "      <th>13</th>\n",
       "      <td>558.0</td>\n",
       "      <td>2.81</td>\n",
       "    </tr>\n",
       "    <tr>\n",
       "      <th>14</th>\n",
       "      <td>572.0</td>\n",
       "      <td>2.88</td>\n",
       "    </tr>\n",
       "  </tbody>\n",
       "</table>\n",
       "</div>"
      ],
      "text/plain": [
       "     LSAT   GPA\n",
       "0   545.0  2.76\n",
       "1   635.0  3.30\n",
       "2   575.0  2.74\n",
       "3   545.0  2.76\n",
       "4   605.0  3.13\n",
       "5   572.0  2.88\n",
       "6   666.0  3.44\n",
       "7   605.0  3.13\n",
       "8   545.0  2.76\n",
       "9   666.0  3.44\n",
       "10  661.0  3.43\n",
       "11  651.0  3.36\n",
       "12  558.0  2.81\n",
       "13  558.0  2.81\n",
       "14  572.0  2.88"
      ]
     },
     "execution_count": 6,
     "metadata": {},
     "output_type": "execute_result"
    }
   ],
   "source": [
    "def bootstrap_df(df):\n",
    "    return pd.DataFrame(bootstrap(df.values), columns=df.columns)\n",
    "\n",
    "bootstrap_df(df)"
   ]
  },
  {
   "cell_type": "code",
   "execution_count": 7,
   "metadata": {},
   "outputs": [
    {
     "data": {
      "text/plain": [
       "array([[1.        , 0.65261609],\n",
       "       [0.65261609, 1.        ]])"
      ]
     },
     "execution_count": 7,
     "metadata": {},
     "output_type": "execute_result"
    }
   ],
   "source": [
    "np.corrcoef(bootstrap_df(df).values.T)"
   ]
  },
  {
   "cell_type": "code",
   "execution_count": 8,
   "metadata": {},
   "outputs": [],
   "source": [
    "distribution = [np.corrcoef(bootstrap_df(df).values.T)[0][1] for _ in range(40_000)]"
   ]
  },
  {
   "cell_type": "code",
   "execution_count": 9,
   "metadata": {},
   "outputs": [
    {
     "data": {
      "image/png": "[encoded data removed]",
      "text/plain": [
       "<Figure size 640x480 with 1 Axes>"
      ]
     },
     "metadata": {},
     "output_type": "display_data"
    }
   ],
   "source": [
    "plt.hist(distribution, bins=100)\n",
    "plt.show()"
   ]
  },
  {
   "attachments": {},
   "cell_type": "markdown",
   "metadata": {},
   "source": [
    "In this assignment, work on these additional tasks:\n",
    "\n",
    "## 1. Complete enumeration bootstrap\n",
    "\n",
    "_Recompute using the complete enumeration bootstrap._"
   ]
  },
  {
   "attachments": {},
   "cell_type": "markdown",
   "metadata": {},
   "source": [
    "From https://docs.python.org/3/library/itertools.html:\n",
    "\n",
    "![](img/itertools.png)"
   ]
  },
  {
   "cell_type": "code",
   "execution_count": 10,
   "metadata": {},
   "outputs": [
    {
     "data": {
      "text/plain": [
       "77558760"
      ]
     },
     "execution_count": 10,
     "metadata": {},
     "output_type": "execute_result"
    }
   ],
   "source": [
    "from itertools import combinations_with_replacement\n",
    "\n",
    "n = len(df)\n",
    "enumeration = list(combinations_with_replacement(list(range(n)), n))\n",
    "len(enumeration)"
   ]
  },
  {
   "attachments": {},
   "cell_type": "markdown",
   "metadata": {},
   "source": [
    "```python\n",
    "data = df.values\n",
    "corrcoefs = []\n",
    "for e in tqdm(enumeration):\n",
    "    c = np.corrcoef(data[list(e)].T)\n",
    "    corrcoefs.append(c[0][1])\n",
    "pd.DataFrame(corrcoefs).to_csv(\"complete_enumeration_corrcoefs.csv\", index=False)\n",
    "```"
   ]
  },
  {
   "attachments": {},
   "cell_type": "markdown",
   "metadata": {},
   "source": [
    "We run this externally in [`complete_enumeration.py`](complete_enumeration.py). The resulting CSV is of size 1.3 GB, so we do not include it in the repo."
   ]
  },
  {
   "cell_type": "code",
   "execution_count": 11,
   "metadata": {},
   "outputs": [],
   "source": [
    "import os\n",
    "\n",
    "df_path = \"complete_enumeration_corrcoefs.csv\"\n",
    "if os.path.exists(df_path):\n",
    "    complete_enumeration_df = pd.read_csv(df_path)\n",
    "    fig, ax = plt.subplots()\n",
    "    complete_enumeration_df.hist(bins=100, alpha=0.5, color=\"red\", ax=ax, label=\"complete enumeration\", density=True)\n",
    "    ax.hist(distribution, bins=100, alpha=0.5, color=\"blue\", label=\"bootstrap B = 40 000\", density=True)\n",
    "    ax.legend(loc='upper left')\n",
    "    plt.savefig(\"img/complete_enumeration_vs_bootstrap.png\")\n",
    "    plt.close()"
   ]
  },
  {
   "attachments": {},
   "cell_type": "markdown",
   "metadata": {},
   "source": [
    "![](img/complete_enumeration_vs_bootstrap.png)"
   ]
  },
  {
   "attachments": {},
   "cell_type": "markdown",
   "metadata": {},
   "source": [
    "## 2. Gray codes\n",
    "\n",
    "_Use Gray codes for compositions to speedup computations._"
   ]
  },
  {
   "cell_type": "code",
   "execution_count": 12,
   "metadata": {},
   "outputs": [
    {
     "data": {
      "text/plain": [
       "array([[5., 0., 0., 0., 0.],\n",
       "       [4., 1., 0., 0., 0.],\n",
       "       [3., 2., 0., 0., 0.],\n",
       "       [2., 3., 0., 0., 0.],\n",
       "       [1., 4., 0., 0., 0.],\n",
       "       [0., 5., 0., 0., 0.],\n",
       "       [0., 4., 1., 0., 0.],\n",
       "       [1., 3., 1., 0., 0.],\n",
       "       [2., 2., 1., 0., 0.],\n",
       "       [3., 1., 1., 0., 0.],\n",
       "       [4., 0., 1., 0., 0.],\n",
       "       [3., 0., 2., 0., 0.],\n",
       "       [2., 1., 2., 0., 0.],\n",
       "       [1., 2., 2., 0., 0.],\n",
       "       [0., 3., 2., 0., 0.],\n",
       "       [0., 2., 3., 0., 0.],\n",
       "       [1., 1., 3., 0., 0.],\n",
       "       [2., 0., 3., 0., 0.],\n",
       "       [1., 0., 4., 0., 0.],\n",
       "       [0., 1., 4., 0., 0.],\n",
       "       [0., 0., 5., 0., 0.],\n",
       "       [0., 0., 4., 1., 0.],\n",
       "       [1., 0., 3., 1., 0.],\n",
       "       [0., 1., 3., 1., 0.],\n",
       "       [0., 2., 2., 1., 0.],\n",
       "       [1., 1., 2., 1., 0.],\n",
       "       [2., 0., 2., 1., 0.],\n",
       "       [3., 0., 1., 1., 0.],\n",
       "       [2., 1., 1., 1., 0.],\n",
       "       [1., 2., 1., 1., 0.],\n",
       "       [0., 3., 1., 1., 0.],\n",
       "       [0., 4., 0., 1., 0.],\n",
       "       [1., 3., 0., 1., 0.],\n",
       "       [2., 2., 0., 1., 0.],\n",
       "       [3., 1., 0., 1., 0.],\n",
       "       [4., 0., 0., 1., 0.],\n",
       "       [3., 0., 0., 2., 0.],\n",
       "       [2., 1., 0., 2., 0.],\n",
       "       [1., 2., 0., 2., 0.],\n",
       "       [0., 3., 0., 2., 0.],\n",
       "       [0., 2., 1., 2., 0.],\n",
       "       [1., 1., 1., 2., 0.],\n",
       "       [2., 0., 1., 2., 0.],\n",
       "       [1., 0., 2., 2., 0.],\n",
       "       [0., 1., 2., 2., 0.],\n",
       "       [0., 0., 3., 2., 0.],\n",
       "       [0., 0., 2., 3., 0.],\n",
       "       [1., 0., 1., 3., 0.],\n",
       "       [0., 1., 1., 3., 0.],\n",
       "       [0., 2., 0., 3., 0.],\n",
       "       [1., 1., 0., 3., 0.],\n",
       "       [2., 0., 0., 3., 0.],\n",
       "       [1., 0., 0., 4., 0.],\n",
       "       [0., 1., 0., 4., 0.],\n",
       "       [0., 0., 1., 4., 0.],\n",
       "       [0., 0., 0., 5., 0.],\n",
       "       [0., 0., 0., 4., 1.],\n",
       "       [1., 0., 0., 3., 1.],\n",
       "       [0., 1., 0., 3., 1.],\n",
       "       [0., 0., 1., 3., 1.],\n",
       "       [0., 0., 2., 2., 1.],\n",
       "       [1., 0., 1., 2., 1.],\n",
       "       [0., 1., 1., 2., 1.],\n",
       "       [0., 2., 0., 2., 1.],\n",
       "       [1., 1., 0., 2., 1.],\n",
       "       [2., 0., 0., 2., 1.],\n",
       "       [3., 0., 0., 1., 1.],\n",
       "       [2., 1., 0., 1., 1.],\n",
       "       [1., 2., 0., 1., 1.],\n",
       "       [0., 3., 0., 1., 1.],\n",
       "       [0., 2., 1., 1., 1.],\n",
       "       [1., 1., 1., 1., 1.],\n",
       "       [2., 0., 1., 1., 1.],\n",
       "       [1., 0., 2., 1., 1.],\n",
       "       [0., 1., 2., 1., 1.],\n",
       "       [0., 0., 3., 1., 1.],\n",
       "       [0., 0., 4., 0., 1.],\n",
       "       [1., 0., 3., 0., 1.],\n",
       "       [0., 1., 3., 0., 1.],\n",
       "       [0., 2., 2., 0., 1.],\n",
       "       [1., 1., 2., 0., 1.],\n",
       "       [2., 0., 2., 0., 1.],\n",
       "       [3., 0., 1., 0., 1.],\n",
       "       [2., 1., 1., 0., 1.],\n",
       "       [1., 2., 1., 0., 1.],\n",
       "       [0., 3., 1., 0., 1.],\n",
       "       [0., 4., 0., 0., 1.],\n",
       "       [1., 3., 0., 0., 1.],\n",
       "       [2., 2., 0., 0., 1.],\n",
       "       [3., 1., 0., 0., 1.],\n",
       "       [4., 0., 0., 0., 1.],\n",
       "       [3., 0., 0., 0., 2.],\n",
       "       [2., 1., 0., 0., 2.],\n",
       "       [1., 2., 0., 0., 2.],\n",
       "       [0., 3., 0., 0., 2.],\n",
       "       [0., 2., 1., 0., 2.],\n",
       "       [1., 1., 1., 0., 2.],\n",
       "       [2., 0., 1., 0., 2.],\n",
       "       [1., 0., 2., 0., 2.],\n",
       "       [0., 1., 2., 0., 2.],\n",
       "       [0., 0., 3., 0., 2.],\n",
       "       [0., 0., 2., 1., 2.],\n",
       "       [1., 0., 1., 1., 2.],\n",
       "       [0., 1., 1., 1., 2.],\n",
       "       [0., 2., 0., 1., 2.],\n",
       "       [1., 1., 0., 1., 2.],\n",
       "       [2., 0., 0., 1., 2.],\n",
       "       [1., 0., 0., 2., 2.],\n",
       "       [0., 1., 0., 2., 2.],\n",
       "       [0., 0., 1., 2., 2.],\n",
       "       [0., 0., 0., 3., 2.],\n",
       "       [0., 0., 0., 2., 3.],\n",
       "       [1., 0., 0., 1., 3.],\n",
       "       [0., 1., 0., 1., 3.],\n",
       "       [0., 0., 1., 1., 3.],\n",
       "       [0., 0., 2., 0., 3.],\n",
       "       [1., 0., 1., 0., 3.],\n",
       "       [0., 1., 1., 0., 3.],\n",
       "       [0., 2., 0., 0., 3.],\n",
       "       [1., 1., 0., 0., 3.],\n",
       "       [2., 0., 0., 0., 3.],\n",
       "       [1., 0., 0., 0., 4.],\n",
       "       [0., 1., 0., 0., 4.],\n",
       "       [0., 0., 1., 0., 4.],\n",
       "       [0., 0., 0., 1., 4.],\n",
       "       [0., 0., 0., 0., 5.]])"
      ]
     },
     "execution_count": 12,
     "metadata": {},
     "output_type": "execute_result"
    }
   ],
   "source": [
    "from math import factorial\n",
    "\n",
    "def graycode_composition(n):\n",
    "    length = int(factorial(2*n-1)/(factorial(n-1)*factorial(2*n-1-(n-1))))\n",
    "    compositions = np.zeros((length, n))\n",
    "\n",
    "    # first combination\n",
    "    curr = np.zeros(n)\n",
    "    curr[0] = n\n",
    "    compositions[0, :] = curr\n",
    "    p = 0\n",
    "    pos=1\n",
    "\n",
    "    while (curr[n-1] != n): # we are done once n is in last\n",
    "        if p == 0:\n",
    "            if np.count_nonzero(curr) > 1:\n",
    "                b = np.flatnonzero(curr)[1]\n",
    "            else:\n",
    "                b=0\n",
    "            if b == 1:\n",
    "                if curr[0] == 1:\n",
    "                    p = 1\n",
    "            elif (n - curr[0]) % 2 == 0:\n",
    "                d, i, p = 0, 1, 1\n",
    "            elif curr[b] % 2 == 1:\n",
    "                d, i, p = 0, b, b\n",
    "            else:\n",
    "                i, d = 0, b\n",
    "        else:\n",
    "            if (n - curr[p]) % 2 == 1:\n",
    "                d, i = p, p-1\n",
    "                if curr[p] % 2 == 0:\n",
    "                    i = 0\n",
    "                p = i\n",
    "            elif curr[p+1] % 2 == 0:\n",
    "                i, d = p+1, p\n",
    "                if curr[p] == 1:\n",
    "                    p= p+1\n",
    "            else:\n",
    "                i, d = p, p+1\n",
    "        curr[i] +=1\n",
    "        curr[d] -= 1\n",
    "        if curr[0] > 0:\n",
    "            p=0\n",
    "        compositions[pos] = curr\n",
    "        pos += 1\n",
    "    return compositions\n",
    "\n",
    "graycode_composition(5) \n",
    "\n",
    "\n",
    " "
   ]
  },
  {
   "cell_type": "code",
   "execution_count": 13,
   "metadata": {},
   "outputs": [
    {
     "name": "stdout",
     "output_type": "stream",
     "text": [
      "[[3. 0. 0.]\n",
      " [2. 1. 0.]\n",
      " [1. 2. 0.]\n",
      " [0. 3. 0.]\n",
      " [2. 0. 1.]\n",
      " [1. 1. 1.]\n",
      " [0. 2. 1.]\n",
      " [1. 0. 2.]\n",
      " [0. 1. 2.]\n",
      " [0. 0. 3.]]\n"
     ]
    }
   ],
   "source": [
    "from math import factorial\n",
    "\n",
    "def n_w_composition(n):\n",
    "    \"\"\"N-W algorithm to run through the compositions\n",
    "    \"\"\"\n",
    "    length = int(factorial(2*n-1)/(factorial(n-1)*factorial(2*n-1-(n-1))))\n",
    "    compositions = np.zeros((length, n))\n",
    "\n",
    "    # first combination\n",
    "    curr = np.zeros(n)\n",
    "    curr[0] = n\n",
    "    compositions[0, :] = curr\n",
    "\n",
    "    value_first_nonzero = n\n",
    "    i = 1\n",
    "    while (curr[n-1] != n): # we are done once n is in last\n",
    "        if value_first_nonzero != 1:\n",
    "            first_nonzero = 0\n",
    "        else:\n",
    "            first_nonzero += 1\n",
    "        value_first_nonzero = curr[first_nonzero]\n",
    "        curr[first_nonzero] = 0\n",
    "        curr[0] = value_first_nonzero - 1\n",
    "        curr[first_nonzero+1] = curr[first_nonzero+1] +1\n",
    "        compositions[i, :] = curr\n",
    "        i += 1\n",
    "    return compositions\n",
    "\n",
    "print(n_w_composition(3))"
   ]
  },
  {
   "cell_type": "code",
   "execution_count": 14,
   "metadata": {},
   "outputs": [
    {
     "name": "stdout",
     "output_type": "stream",
     "text": [
      "   LSAT   GPA\n",
      "0   576  3.39\n",
      "1   635  3.30\n",
      "2   558  2.81\n",
      "3   578  3.03\n"
     ]
    }
   ],
   "source": [
    "df = pd.read_csv(\"law.csv\")\n",
    "\n",
    "df_n4 = df.iloc[0:4, :]\n",
    "\n",
    "n = df_n4.shape[0]\n",
    "print(df_n4.head())\n",
    "\n",
    "graycodes_for_computation = graycode_composition(n)"
   ]
  },
  {
   "cell_type": "code",
   "execution_count": 15,
   "metadata": {},
   "outputs": [
    {
     "data": {
      "text/plain": [
       "(35, 4)"
      ]
     },
     "execution_count": 15,
     "metadata": {},
     "output_type": "execute_result"
    }
   ],
   "source": [
    "graycodes_for_computation.shape"
   ]
  },
  {
   "attachments": {},
   "cell_type": "markdown",
   "metadata": {},
   "source": [
    "The generation of the gray codes inside the Jupyter Notebook took around 2 to 3 minutes."
   ]
  },
  {
   "cell_type": "code",
   "execution_count": 118,
   "metadata": {},
   "outputs": [],
   "source": [
    "def complete_enumeration_with_graycodes(n=4):\n",
    "    graycodes = graycode_composition(n)\n",
    "    df = pd.read_csv(\"law.csv\")\n",
    "\n",
    "    data = df.iloc[0:n, :]\n",
    "    data = data.values\n",
    "\n",
    "    data = data.T\n",
    "    \n",
    "    correlations = data[0] * data[1]\n",
    "    lsat_square = data[0]**2\n",
    "    gpa_square = data[1]**2\n",
    "\n",
    "    corrs = []\n",
    "\n",
    "    for graycode in tqdm(graycodes, total=graycodes.shape[0]):\n",
    "        # formula \n",
    "        # numerator n* sum (xi*yi) - sum(x)*sum(y)\n",
    "        curr_x = np.sum(graycode*data[0])\n",
    "        curr_y = np.sum(graycode*data[1])\n",
    "        corr = n*np.sum(np.dot(graycode, correlations)) - curr_x*curr_y\n",
    "        # denominator\n",
    "        # sqrt(n* sum (x_square)-sum(x)**2) * sqrt(n*sum(y_square)-sum(y)**2)\n",
    "        corr = corr/(np.sqrt(n* np.sum(np.dot(graycode, lsat_square))-curr_x**2)*np.sqrt(n * np.sum(np.dot(graycode, gpa_square))-curr_y**2))\n",
    "        corrs.append(corr)\n",
    "    return corrs"
   ]
  },
  {
   "cell_type": "code",
   "execution_count": 94,
   "metadata": {},
   "outputs": [],
   "source": [
    "import itertools\n",
    "\n",
    "\n",
    "def complete_enumeration_without_graycodes(n=4):\n",
    "    graycodes = graycode_composition(n)\n",
    "    df = pd.read_csv(\"law.csv\")\n",
    "\n",
    "    data = df.iloc[0:n, :]\n",
    "    data = data.values\n",
    "\n",
    "    corrs = []\n",
    "\n",
    "    for graycode in tqdm(graycodes):\n",
    "        indices = list(itertools.chain(*[[i]*int(g) for i, g in enumerate(graycode)]))\n",
    "        corr = np.corrcoef(data[indices].T)[0][1]\n",
    "        corrs.append(corr)\n",
    "\n",
    "    return corrs\n"
   ]
  },
  {
   "cell_type": "code",
   "execution_count": 120,
   "metadata": {},
   "outputs": [
    {
     "data": {
      "application/vnd.jupyter.widget-view+json": {
       "model_id": "4d96d37c57594296ba86942b0028fc88",
       "version_major": 2,
       "version_minor": 0
      },
      "text/plain": [
       "  0%|          | 0/462 [00:00<?, ?it/s]"
      ]
     },
     "metadata": {},
     "output_type": "display_data"
    },
    {
     "name": "stderr",
     "output_type": "stream",
     "text": [
      "/var/folders/3t/5zql4jcx7kn94b59w3nfp6yc0000gn/T/ipykernel_29340/1819087902.py:24: RuntimeWarning: divide by zero encountered in scalar divide\n",
      "  corr = corr/(np.sqrt(n* np.sum(np.dot(graycode, lsat_square))-curr_x**2)*np.sqrt(n * np.sum(np.dot(graycode, gpa_square))-curr_y**2))\n",
      "/var/folders/3t/5zql4jcx7kn94b59w3nfp6yc0000gn/T/ipykernel_29340/1819087902.py:24: RuntimeWarning: invalid value encountered in sqrt\n",
      "  corr = corr/(np.sqrt(n* np.sum(np.dot(graycode, lsat_square))-curr_x**2)*np.sqrt(n * np.sum(np.dot(graycode, gpa_square))-curr_y**2))\n",
      "/var/folders/3t/5zql4jcx7kn94b59w3nfp6yc0000gn/T/ipykernel_29340/1819087902.py:24: RuntimeWarning: invalid value encountered in scalar divide\n",
      "  corr = corr/(np.sqrt(n* np.sum(np.dot(graycode, lsat_square))-curr_x**2)*np.sqrt(n * np.sum(np.dot(graycode, gpa_square))-curr_y**2))\n"
     ]
    },
    {
     "data": {
      "application/vnd.jupyter.widget-view+json": {
       "model_id": "6112f69861f34792a4eb7f17fe59a6c2",
       "version_major": 2,
       "version_minor": 0
      },
      "text/plain": [
       "  0%|          | 0/462 [00:00<?, ?it/s]"
      ]
     },
     "metadata": {},
     "output_type": "display_data"
    },
    {
     "name": "stderr",
     "output_type": "stream",
     "text": [
      "/Users/zianor/Library/Caches/pypoetry/virtualenvs/computational-statistics-2-YPcoK3fc-py3.11/lib/python3.11/site-packages/numpy/lib/function_base.py:2854: RuntimeWarning: invalid value encountered in divide\n",
      "  c /= stddev[:, None]\n",
      "/Users/zianor/Library/Caches/pypoetry/virtualenvs/computational-statistics-2-YPcoK3fc-py3.11/lib/python3.11/site-packages/numpy/lib/function_base.py:2855: RuntimeWarning: invalid value encountered in divide\n",
      "  c /= stddev[None, :]\n"
     ]
    }
   ],
   "source": [
    "graycodes = graycode_composition(6)\n",
    "df = pd.read_csv(\"law.csv\")\n",
    "\n",
    "\n",
    "corr_graycodes = complete_enumeration_with_graycodes(n=6)\n",
    "corr_without_graycodes = complete_enumeration_without_graycodes(n=6)\n"
   ]
  },
  {
   "attachments": {},
   "cell_type": "markdown",
   "metadata": {},
   "source": [
    "## 3. Speedup from Gray codes\n",
    "\n",
    "_How much speedup can you get by using Gray codes? Show either experimentally or theoretically._"
   ]
  },
  {
   "attachments": {},
   "cell_type": "markdown",
   "metadata": {},
   "source": [
    "## 4. Removals\n",
    "\n",
    "_Which observation(s) do you need to remove from the sample to make the Monte Carlo and complete enumeration bootstrap look more similar?_"
   ]
  },
  {
   "attachments": {},
   "cell_type": "markdown",
   "metadata": {},
   "source": [
    "## 5. Monte Carlo vs complete enumeration bootstrap\n",
    "\n",
    "_Explain why you obtain difference results for Monte Carlo and complete enumeration bootstrap._"
   ]
  }
 ],
 "metadata": {
  "kernelspec": {
   "display_name": "base",
   "language": "python",
   "name": "python3"
  },
  "language_info": {
   "codemirror_mode": {
    "name": "ipython",
    "version": 3
   },
   "file_extension": ".py",
   "mimetype": "text/x-python",
   "name": "python",
   "nbconvert_exporter": "python",
   "pygments_lexer": "ipython3",
   "version": "3.11.2"
  },
  "orig_nbformat": 4
 },
 "nbformat": 4,
 "nbformat_minor": 2
}
