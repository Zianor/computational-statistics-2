{
 "cells": [
  {
   "attachments": {},
   "cell_type": "markdown",
   "metadata": {},
   "source": [
    "# Assignment 2\n",
    "\n",
    "During the exercises, you will compute the nonparametric bootstrap distribution of the Pearson’s\n",
    "correlation coefficient between LSAT and GPA using B = 40000 bootstrap samples."
   ]
  },
  {
   "attachments": {},
   "cell_type": "markdown",
   "metadata": {},
   "source": [
    "## Exercise 8.1: The Nonparametric Bootstrap\n",
    "\n",
    "_Compute the nonparametric bootstrap distribution of the Pearson’s correlation coefficient between LSAT\n",
    "and GPA using B = 40000 bootstrap samples._"
   ]
  },
  {
   "cell_type": "code",
   "execution_count": 1,
   "metadata": {},
   "outputs": [],
   "source": [
    "import matplotlib.pyplot as plt\n",
    "import numpy as np\n",
    "import pandas as pd\n",
    "import random\n",
    "from tqdm.notebook import tqdm"
   ]
  },
  {
   "cell_type": "code",
   "execution_count": 2,
   "metadata": {},
   "outputs": [
    {
     "data": {
      "image/png": "[encoded data removed]",
      "text/plain": [
       "<Figure size 640x480 with 1 Axes>"
      ]
     },
     "metadata": {},
     "output_type": "display_data"
    }
   ],
   "source": [
    "df = pd.read_csv(\"law.csv\")\n",
    "df.plot.scatter(x=\"LSAT\", y=\"GPA\")\n",
    "plt.show()"
   ]
  },
  {
   "cell_type": "code",
   "execution_count": 3,
   "metadata": {},
   "outputs": [
    {
     "data": {
      "text/plain": [
       "array([[1.        , 0.77637449],\n",
       "       [0.77637449, 1.        ]])"
      ]
     },
     "execution_count": 3,
     "metadata": {},
     "output_type": "execute_result"
    }
   ],
   "source": [
    "np.corrcoef(df[\"LSAT\"], df[\"GPA\"])"
   ]
  },
  {
   "cell_type": "code",
   "execution_count": 4,
   "metadata": {},
   "outputs": [
    {
     "data": {
      "text/plain": [
       "array([[1.        , 0.77637449],\n",
       "       [0.77637449, 1.        ]])"
      ]
     },
     "execution_count": 4,
     "metadata": {},
     "output_type": "execute_result"
    }
   ],
   "source": [
    "np.corrcoef(df.values.T)"
   ]
  },
  {
   "cell_type": "code",
   "execution_count": 5,
   "metadata": {},
   "outputs": [
    {
     "data": {
      "text/plain": [
       "((15, 2), (2, 15))"
      ]
     },
     "execution_count": 5,
     "metadata": {},
     "output_type": "execute_result"
    }
   ],
   "source": [
    "def bootstrap(data):\n",
    "    return [random.choice(data) for _ in range(len(data))]\n",
    "\n",
    "np.array(bootstrap(df.values)).shape, np.stack(bootstrap(df.values), axis=1).shape"
   ]
  },
  {
   "cell_type": "code",
   "execution_count": 6,
   "metadata": {},
   "outputs": [
    {
     "data": {
      "text/html": [
       "<div>\n",
       "<style scoped>\n",
       "    .dataframe tbody tr th:only-of-type {\n",
       "        vertical-align: middle;\n",
       "    }\n",
       "\n",
       "    .dataframe tbody tr th {\n",
       "        vertical-align: top;\n",
       "    }\n",
       "\n",
       "    .dataframe thead th {\n",
       "        text-align: right;\n",
       "    }\n",
       "</style>\n",
       "<table border=\"1\" class=\"dataframe\">\n",
       "  <thead>\n",
       "    <tr style=\"text-align: right;\">\n",
       "      <th></th>\n",
       "      <th>LSAT</th>\n",
       "      <th>GPA</th>\n",
       "    </tr>\n",
       "  </thead>\n",
       "  <tbody>\n",
       "    <tr>\n",
       "      <th>0</th>\n",
       "      <td>651.0</td>\n",
       "      <td>3.36</td>\n",
       "    </tr>\n",
       "    <tr>\n",
       "      <th>1</th>\n",
       "      <td>661.0</td>\n",
       "      <td>3.43</td>\n",
       "    </tr>\n",
       "    <tr>\n",
       "      <th>2</th>\n",
       "      <td>580.0</td>\n",
       "      <td>3.07</td>\n",
       "    </tr>\n",
       "    <tr>\n",
       "      <th>3</th>\n",
       "      <td>594.0</td>\n",
       "      <td>2.96</td>\n",
       "    </tr>\n",
       "    <tr>\n",
       "      <th>4</th>\n",
       "      <td>558.0</td>\n",
       "      <td>2.81</td>\n",
       "    </tr>\n",
       "    <tr>\n",
       "      <th>5</th>\n",
       "      <td>576.0</td>\n",
       "      <td>3.39</td>\n",
       "    </tr>\n",
       "    <tr>\n",
       "      <th>6</th>\n",
       "      <td>661.0</td>\n",
       "      <td>3.43</td>\n",
       "    </tr>\n",
       "    <tr>\n",
       "      <th>7</th>\n",
       "      <td>580.0</td>\n",
       "      <td>3.07</td>\n",
       "    </tr>\n",
       "    <tr>\n",
       "      <th>8</th>\n",
       "      <td>578.0</td>\n",
       "      <td>3.03</td>\n",
       "    </tr>\n",
       "    <tr>\n",
       "      <th>9</th>\n",
       "      <td>555.0</td>\n",
       "      <td>3.00</td>\n",
       "    </tr>\n",
       "    <tr>\n",
       "      <th>10</th>\n",
       "      <td>651.0</td>\n",
       "      <td>3.36</td>\n",
       "    </tr>\n",
       "    <tr>\n",
       "      <th>11</th>\n",
       "      <td>578.0</td>\n",
       "      <td>3.03</td>\n",
       "    </tr>\n",
       "    <tr>\n",
       "      <th>12</th>\n",
       "      <td>572.0</td>\n",
       "      <td>2.88</td>\n",
       "    </tr>\n",
       "    <tr>\n",
       "      <th>13</th>\n",
       "      <td>558.0</td>\n",
       "      <td>2.81</td>\n",
       "    </tr>\n",
       "    <tr>\n",
       "      <th>14</th>\n",
       "      <td>653.0</td>\n",
       "      <td>3.12</td>\n",
       "    </tr>\n",
       "  </tbody>\n",
       "</table>\n",
       "</div>"
      ],
      "text/plain": [
       "     LSAT   GPA\n",
       "0   651.0  3.36\n",
       "1   661.0  3.43\n",
       "2   580.0  3.07\n",
       "3   594.0  2.96\n",
       "4   558.0  2.81\n",
       "5   576.0  3.39\n",
       "6   661.0  3.43\n",
       "7   580.0  3.07\n",
       "8   578.0  3.03\n",
       "9   555.0  3.00\n",
       "10  651.0  3.36\n",
       "11  578.0  3.03\n",
       "12  572.0  2.88\n",
       "13  558.0  2.81\n",
       "14  653.0  3.12"
      ]
     },
     "execution_count": 6,
     "metadata": {},
     "output_type": "execute_result"
    }
   ],
   "source": [
    "def bootstrap_df(df):\n",
    "    return pd.DataFrame(bootstrap(df.values), columns=df.columns)\n",
    "\n",
    "bootstrap_df(df)"
   ]
  },
  {
   "cell_type": "code",
   "execution_count": 7,
   "metadata": {},
   "outputs": [
    {
     "data": {
      "text/plain": [
       "array([[1.        , 0.68605033],\n",
       "       [0.68605033, 1.        ]])"
      ]
     },
     "execution_count": 7,
     "metadata": {},
     "output_type": "execute_result"
    }
   ],
   "source": [
    "np.corrcoef(bootstrap_df(df).values.T)"
   ]
  },
  {
   "cell_type": "code",
   "execution_count": 8,
   "metadata": {},
   "outputs": [],
   "source": [
    "distribution = [np.corrcoef(bootstrap_df(df).values.T)[0][1] for _ in range(40_000)]"
   ]
  },
  {
   "cell_type": "code",
   "execution_count": 9,
   "metadata": {},
   "outputs": [
    {
     "data": {
      "image/png": "[encoded data removed]",
      "text/plain": [
       "<Figure size 640x480 with 1 Axes>"
      ]
     },
     "metadata": {},
     "output_type": "display_data"
    }
   ],
   "source": [
    "plt.hist(distribution, bins=100)\n",
    "plt.show()"
   ]
  },
  {
   "attachments": {},
   "cell_type": "markdown",
   "metadata": {},
   "source": [
    "In this assignment, work on these additional tasks:\n",
    "\n",
    "## 1. Complete enumeration bootstrap\n",
    "\n",
    "_Recompute using the complete enumeration bootstrap._"
   ]
  },
  {
   "attachments": {},
   "cell_type": "markdown",
   "metadata": {},
   "source": [
    "From https://docs.python.org/3/library/itertools.html:\n",
    "\n",
    "![](img/itertools.png)"
   ]
  },
  {
   "cell_type": "code",
   "execution_count": 10,
   "metadata": {},
   "outputs": [
    {
     "data": {
      "text/plain": [
       "77558760"
      ]
     },
     "execution_count": 10,
     "metadata": {},
     "output_type": "execute_result"
    }
   ],
   "source": [
    "from itertools import combinations_with_replacement\n",
    "\n",
    "n = len(df)\n",
    "enumeration = list(combinations_with_replacement(list(range(n)), n))\n",
    "len(enumeration)"
   ]
  },
  {
   "attachments": {},
   "cell_type": "markdown",
   "metadata": {},
   "source": [
    "```python\n",
    "data = df.values\n",
    "corrcoefs = []\n",
    "for e in tqdm(enumeration):\n",
    "    c = np.corrcoef(data[list(e)].T)\n",
    "    corrcoefs.append(c[0][1])\n",
    "pd.DataFrame(corrcoefs).to_csv(\"complete_enumeration_corrcoefs.csv\", index=False)\n",
    "```"
   ]
  },
  {
   "attachments": {},
   "cell_type": "markdown",
   "metadata": {},
   "source": [
    "We run this externally in [`complete_enumeration.py`](complete_enumeration.py). The resulting CSV is of size 1.3 GB, so we do not include it in the repo."
   ]
  },
  {
   "cell_type": "code",
   "execution_count": null,
   "metadata": {},
   "outputs": [],
   "source": [
    "import os\n",
    "\n",
    "df_path = \"complete_enumeration_corrcoefs.csv\"\n",
    "if os.path.exists(df_path):\n",
    "    complete_enumeration_df = pd.read_csv(df_path)\n",
    "    fig, ax = plt.subplots()\n",
    "    complete_enumeration_df.hist(bins=100, alpha=0.5, color=\"red\", ax=ax, label=\"complete enumeration\", density=True)\n",
    "    ax.hist(distribution, bins=100, alpha=0.5, color=\"blue\", label=\"bootstrap B = 40 000\", density=True)\n",
    "    ax.legend(loc='upper left')\n",
    "    plt.savefig(\"img/complete_enumeration_vs_bootstrap.png\")\n",
    "    plt.close()"
   ]
  },
  {
   "attachments": {},
   "cell_type": "markdown",
   "metadata": {},
   "source": [
    "![](img/complete_enumeration_vs_bootstrap.png)"
   ]
  },
  {
   "attachments": {},
   "cell_type": "markdown",
   "metadata": {},
   "source": [
    "## 2. Gray codes\n",
    "\n",
    "_Use Gray codes for compositions to speedup computations._"
   ]
  },
  {
   "cell_type": "code",
   "execution_count": null,
   "metadata": {},
   "outputs": [],
   "source": [
    "def gray_codes(current_composition, i, d, p, n, k):\n",
    "    \"\"\"On a generic call, input consist of the current composition pi = (pi(1), ..., pi(k)), the pointers i and d and a pointer p indicating \n",
    "    the first positive part of pi.\n",
    "    Output consists of the successor pi' of pi and updated pointers i, d, and p\n",
    "    \"\"\"\n",
    "    if not current_composition:  # first entry\n",
    "        current_composition = np.zeros(k)\n",
    "        current_composition[0] = n\n",
    "        if current_composition[k-1] == n:\n",
    "            return current_composition\n",
    "        return  # TODO\n",
    "    # later entries\n",
    "    if p == 1:\n",
    "        b = np.argmax(current_composition[np.argmax(current_composition>0) + 1 :] > 0) + 1 # because we have zero indexing, position of second positive part\n",
    "        if b == 2:\n",
    "            if d == current_composition[0] == 1:\n",
    "                p = 2\n",
    "        elif (n - current_composition[0]) % 2 == 0:\n",
    "            d = 1\n",
    "            i = 2\n",
    "            p = 2\n",
    "        elif current_composition[b-1] % 2 == 1:\n",
    "            d=1\n",
    "            i=b\n",
    "            p=b\n",
    "        else:\n",
    "            i=1\n",
    "            d=b\n",
    "    else:\n",
    "        if (n - current_composition[p-1] % 2 == 1):\n",
    "            d = p\n",
    "            i = p - 1\n",
    "            if current_composition[p-1] % 2 == 0:\n",
    "                i = 1\n",
    "            p = i\n",
    "        elif current_composition[p] % 2 == 0:\n",
    "            i = p + 1\n",
    "            d = p\n",
    "            if current_composition[p-1] == 1:\n",
    "                p += 1\n",
    "        else:\n",
    "            i = p\n",
    "            d = p+1\n",
    "    current_composition[i-1] += 1\n",
    "    current_composition[d-1] -= 1\n",
    "    if current_composition[0] > 0:\n",
    "        p = 1\n",
    "    if current_composition[k-1] == n:\n",
    "        return current_composition\n",
    "    return  # TODO: another iteration here?\n"
   ]
  },
  {
   "attachments": {},
   "cell_type": "markdown",
   "metadata": {},
   "source": [
    "## 3. Speedup from Gray codes\n",
    "\n",
    "_How much speedup can you get by using Gray codes? Show either experimentally or theoretically._"
   ]
  },
  {
   "attachments": {},
   "cell_type": "markdown",
   "metadata": {},
   "source": [
    "## 4. Removals\n",
    "\n",
    "_Which observation(s) do you need to remove from the sample to make the Monte Carlo and complete enumeration bootstrap look more similar?_"
   ]
  },
  {
   "attachments": {},
   "cell_type": "markdown",
   "metadata": {},
   "source": [
    "## 5. Monte Carlo vs complete enumeration bootstrap\n",
    "\n",
    "_Explain why you obtain difference results for Monte Carlo and complete enumeration bootstrap._"
   ]
  }
 ],
 "metadata": {
  "kernelspec": {
   "display_name": "base",
   "language": "python",
   "name": "python3"
  },
  "language_info": {
   "codemirror_mode": {
    "name": "ipython",
    "version": 3
   },
   "file_extension": ".py",
   "mimetype": "text/x-python",
   "name": "python",
   "nbconvert_exporter": "python",
   "pygments_lexer": "ipython3",
   "version": "3.11.2"
  },
  "orig_nbformat": 4
 },
 "nbformat": 4,
 "nbformat_minor": 2
}
